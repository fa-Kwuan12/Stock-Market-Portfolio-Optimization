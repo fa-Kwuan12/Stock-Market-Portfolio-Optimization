{
 "cells": [
  {
   "cell_type": "markdown",
   "metadata": {},
   "source": [
    "DATA ENTRANCING"
   ]
  },
  {
   "cell_type": "code",
   "execution_count": null,
   "metadata": {},
   "outputs": [],
   "source": [
    "import pandas as pd\n",
    "import yfinance as yf\n",
    "from datetime import date, timedelta\n",
    "\n",
    "# define the time period for data\n",
    "end_date = (date.today() - timedelta(days=1)).strftime('%Y-%m-%d')\n",
    "start_date = (date.today() - timedelta(days=365)).strftime('%Y-%m-%d')\n",
    "\n",
    "# list of stock tickers to download\n",
    "tickers = ['RELIANCE.NS', 'TCS.NS', 'HDFCBANK.NS']\n",
    "\n",
    "data = yf.download(tickers, start=start_date, end=end_date, progress=False)\n",
    "\n",
    "# check to existance of Date\n",
    "if data.empty:\n",
    "    raise ValueError(\"No data in period\")\n",
    "\n",
    "# reset index to bring Date into the columns for the melt function\n",
    "data = data.reset_index()\n",
    "\n",
    "# check the Dataframe before melting \n",
    "print(data.head())\n",
    "print(data.columns)\n",
    "\n",
    "# create Date columns if did not exist before\n",
    "if 'Date' not in data.columns:\n",
    "    data['Date'] = data.index\n",
    "\n",
    "# melt the DataFrame to make it long format where each row is a unique combination of Date, Ticker, and attributes\n",
    "data_melted = data.melt(id_vars=['Date'], var_name= 'Attribute', value_name= 'Value')\n",
    "\n",
    "# pivot the melted DataFrame to have the attributes (Open, High, Low, etc.) as columns\n",
    "data_pivoted = data_melted.pivot_table(index=['Date', 'Ticker'], columns='Attribute', values='Value', aggfunc='first')\n",
    "\n",
    "# reset index to turn multi-index into columns\n",
    "stock_data = data_pivoted.reset_index()\n",
    "\n",
    "print(stock_data.head())"
   ]
  },
  {
   "cell_type": "markdown",
   "metadata": {},
   "source": [
    "INDICATOR CACULATING"
   ]
  },
  {
   "cell_type": "code",
   "execution_count": null,
   "metadata": {},
   "outputs": [],
   "source": [
    "import matplotlib.pyplot as plt\n",
    "import seaborn as sns\n",
    "\n",
    "stock_data['Date'] = pd.to_datetime(stock_data['Date'])\n",
    "\n",
    "stock_data.set_index('Date', inplace=True)\n",
    "stock_data.reset_index(inplace=True)\n",
    "plt.figure(figsize=(14, 7))\n",
    "sns.set(style='whitegrid')\n",
    "\n",
    "sns.lineplot(data=stock_data, x='Date', y='Adj Close', hue='Ticker', marker='o')\n",
    "\n",
    "plt.title('Adjusted Close Price Over Time', fontsize=16)\n",
    "plt.xlabel('Date', fontsize=14)\n",
    "plt.ylabel('Adjusted Close Price', fontsize=14)\n",
    "plt.legend(title='Ticker', title_fontsize='13', fontsize='11')\n",
    "plt.grid(True)\n",
    "\n",
    "plt.xticks(rotation=45)\n",
    "\n",
    "plt.show()"
   ]
  },
  {
   "cell_type": "markdown",
   "metadata": {},
   "source": [
    "MA50 - MA200 DEMONSTRATING"
   ]
  },
  {
   "cell_type": "code",
   "execution_count": null,
   "metadata": {},
   "outputs": [],
   "source": [
    "short_window = 50\n",
    "long_window = 200\n",
    "\n",
    "stock_data.set_index('Date', inplace=True)\n",
    "unique_tickers = stock_data['Ticker'].unique()\n",
    "\n",
    "for ticker in unique_tickers:\n",
    "    ticker_data = stock_data[stock_data['Ticker'] == ticker].copy()\n",
    "    ticker_data['50_MA'] = ticker_data['Adj Close'].rolling(window=short_window).mean()\n",
    "    ticker_data['200_MA'] = ticker_data['Adj Close'].rolling(window=long_window).mean()\n",
    "\n",
    "    plt.figure(figsize=(14, 7))\n",
    "    plt.plot(ticker_data.index, ticker_data['Adj Close'], label='Adj Close')\n",
    "    plt.plot(ticker_data.index, ticker_data['50_MA'], label='50-Day MA')\n",
    "    plt.plot(ticker_data.index, ticker_data['200_MA'], label='200-Day MA')\n",
    "    plt.title(f'{ticker} - Adjusted Close and Moving Averages')\n",
    "    plt.xlabel('Date')\n",
    "    plt.ylabel('Price')\n",
    "    plt.legend()\n",
    "    plt.grid(True)\n",
    "    plt.xticks(rotation=45)\n",
    "    plt.tight_layout()\n",
    "    plt.show()\n",
    "\n",
    "    plt.figure(figsize=(14, 7))\n",
    "    plt.bar(ticker_data.index, ticker_data['Volume'], label='Volume', color='orange')\n",
    "    plt.title(f'{ticker} - Volume Traded')\n",
    "    plt.xlabel('Date')\n",
    "    plt.ylabel('Volume')\n",
    "    plt.legend()\n",
    "    plt.grid(True)\n",
    "    plt.xticks(rotation=45)\n",
    "    plt.tight_layout()\n",
    "    plt.show()"
   ]
  },
  {
   "cell_type": "markdown",
   "metadata": {},
   "source": [
    "DIARY DISTRIBUTION"
   ]
  },
  {
   "cell_type": "code",
   "execution_count": null,
   "metadata": {},
   "outputs": [],
   "source": [
    "stock_data['Daily Return'] = stock_data.groupby('Ticker')['Adj Close'].pct_change()\n",
    "\n",
    "plt.figure(figsize=(14, 7))\n",
    "sns.set(style='whitegrid')\n",
    "\n",
    "for ticker in unique_tickers:\n",
    "    ticker_data = stock_data[stock_data['Ticker'] == ticker]\n",
    "    sns.histplot(ticker_data['Daily Return'].dropna(), bins=50, kde=True, label=ticker, alpha=0.5)\n",
    "\n",
    "plt.title('Distribution of Daily Returns', fontsize=16)\n",
    "plt.xlabel('Daily Return', fontsize=14)\n",
    "plt.ylabel('Frequency', fontsize=14)\n",
    "plt.legend(title='Ticker', title_fontsize='13', fontsize='11')\n",
    "plt.grid(True)\n",
    "plt.tight_layout()\n",
    "plt.show()"
   ]
  },
  {
   "cell_type": "code",
   "execution_count": null,
   "metadata": {},
   "outputs": [],
   "source": [
    "daily_returns = stock_data.pivot_table(index='Date', columns='Ticker', values='Daily Return')\n",
    "correlation_matrix = daily_returns.corr()\n",
    "\n",
    "plt.figure(figsize=(12, 10))\n",
    "sns.set(style='whitegrid')\n",
    "\n",
    "sns.heatmap(correlation_matrix, annot=True, cmap='coolwarm', linewidths=.5, fmt='.2f', annot_kws={\"size\": 10})\n",
    "plt.title('Correlation Matrix of Daily Returns', fontsize=16)\n",
    "plt.xticks(rotation=90)\n",
    "plt.yticks(rotation=0)\n",
    "plt.tight_layout()\n",
    "plt.show()"
   ]
  },
  {
   "cell_type": "code",
   "execution_count": null,
   "metadata": {},
   "outputs": [],
   "source": [
    "import numpy as np\n",
    "\n",
    "expected_returns = daily_returns.mean() * 252  # annualize the returns\n",
    "volatility = daily_returns.std() * np.sqrt(252)  # annualize the volatility\n",
    "\n",
    "stock_stats = pd.DataFrame({\n",
    "    'Expected Return': expected_returns,\n",
    "    'Volatility': volatility\n",
    "})\n",
    "\n",
    "stock_stats"
   ]
  },
  {
   "cell_type": "code",
   "execution_count": null,
   "metadata": {},
   "outputs": [],
   "source": [
    "# function to calculate portfolio performance\n",
    "def portfolio_performance(weights, returns, cov_matrix):\n",
    "    portfolio_return = np.dot(weights, returns)\n",
    "    portfolio_volatility = np.sqrt(np.dot(weights.T, np.dot(cov_matrix, weights)))\n",
    "    return portfolio_return, portfolio_volatility\n",
    "\n",
    "# number of portfolios to simulate\n",
    "num_portfolios = 10000\n",
    "\n",
    "# arrays to store the results\n",
    "results = np.zeros((3, num_portfolios))\n",
    "\n",
    "# annualized covariance matrix\n",
    "cov_matrix = daily_returns.cov() * 252\n",
    "\n",
    "np.random.seed(42)\n",
    "\n",
    "for i in range(num_portfolios):\n",
    "    weights = np.random.random(len(unique_tickers))\n",
    "    weights /= np.sum(weights)\n",
    "\n",
    "    portfolio_return, portfolio_volatility = portfolio_performance(weights, expected_returns, cov_matrix)\n",
    "\n",
    "    results[0,i] = portfolio_return\n",
    "    results[1,i] = portfolio_volatility\n",
    "    results[2,i] = portfolio_return / portfolio_volatility  # Sharpe Ratio\n",
    "\n",
    "plt.figure(figsize=(10, 7))\n",
    "plt.scatter(results[1,:], results[0,:], c=results[2,:], cmap='YlGnBu', marker='o')\n",
    "plt.title('Efficient Frontier')\n",
    "plt.xlabel('Volatility (Standard Deviation)')\n",
    "plt.ylabel('Expected Return')\n",
    "plt.colorbar(label='Sharpe Ratio')\n",
    "plt.grid(True)\n",
    "plt.show()"
   ]
  },
  {
   "cell_type": "code",
   "execution_count": null,
   "metadata": {},
   "outputs": [],
   "source": [
    "max_sharpe_idx = np.argmax(results[2])\n",
    "max_sharpe_return = results[0, max_sharpe_idx]\n",
    "max_sharpe_volatility = results[1, max_sharpe_idx]\n",
    "max_sharpe_ratio = results[2, max_sharpe_idx]\n",
    "\n",
    "max_sharpe_return, max_sharpe_volatility, max_sharpe_ratio"
   ]
  },
  {
   "cell_type": "code",
   "execution_count": null,
   "metadata": {},
   "outputs": [],
   "source": [
    "max_sharpe_weights = np.zeros(len(unique_tickers))\n",
    "\n",
    "for i in range(num_portfolios):\n",
    "    weights = np.random.random(len(unique_tickers))\n",
    "    weights /= np.sum(weights)\n",
    "\n",
    "    portfolio_return, portfolio_volatility = portfolio_performance(weights, expected_returns, cov_matrix)\n",
    "\n",
    "    if results[2, i] == max_sharpe_ratio:\n",
    "        max_sharpe_weights = weights\n",
    "        break\n",
    "\n",
    "portfolio_weights_df = pd.DataFrame({\n",
    "    'Ticker': unique_tickers,\n",
    "    'Weight': max_sharpe_weights\n",
    "})\n",
    "\n",
    "portfolio_weights_df"
   ]
  }
 ],
 "metadata": {
  "kernelspec": {
   "display_name": ".venv",
   "language": "python",
   "name": "python3"
  },
  "language_info": {
   "codemirror_mode": {
    "name": "ipython",
    "version": 3
   },
   "file_extension": ".py",
   "mimetype": "text/x-python",
   "name": "python",
   "nbconvert_exporter": "python",
   "pygments_lexer": "ipython3",
   "version": "3.12.4"
  }
 },
 "nbformat": 4,
 "nbformat_minor": 2
}
